{
 "cells": [
  {
   "cell_type": "code",
   "execution_count": null,
   "id": "9c149acf-6938-42b6-a8d0-a79e024a8f2b",
   "metadata": {
    "tags": []
   },
   "outputs": [],
   "source": [
    "import sys\n",
    "import boto3\n",
    "\n",
    "from pyspark import SparkConf\n",
    "from pyspark.sql import SparkSession\n",
    "from pyspark.sql import SQLContext\n",
    "from pyspark.sql.functions import *\n",
    "\n",
    "from awsglue.transforms import *\n",
    "# from awsglue.utils import getResolvedOptions\n",
    "from awsglue.context import GlueContext\n",
    "from awsglue.job import Job\n",
    "\n",
    "\n",
    "############\n",
    "### ARGS ### \n",
    "############\n",
    "\n",
    "REGION = \"region_aws\"\n",
    "BUCKET_NAME = \"bucket_s3\"\n",
    "PATH = 'path_s3'\n",
    "PREFFIX = f'{PATH}/'\n",
    "\n",
    "## @params: [JOB_NAME]\n",
    "# args = getResolvedOptions(sys.argv, [\n",
    "#     'JOB_NAME'\n",
    "#     ])\n",
    "\n",
    "conf = SparkConf()\n",
    "spark = SparkSession.builder.config(conf=conf).getOrCreate()\n",
    "\n",
    "sparksqlc = SQLContext(spark)\n",
    "glueContext = GlueContext(spark)\n",
    "job = Job(glueContext)\n",
    "# job.init(args['JOB_NAME'], args)\n",
    "\n",
    "session = boto3.Session()\n",
    "s3_resource = session.resource('s3')\n",
    "s3_client = boto3.client('s3')\n",
    "\n",
    "response = s3_client.list_objects(\n",
    "    Bucket=BUCKET_NAME,\n",
    "    Prefix=PREFFIX,\n",
    ")\n",
    "\n",
    "response = response['Contents'][0]\n",
    "response['Size'] = str(response['Size']*0.000001) + \" mb\"\n",
    "\n",
    "print(\"#\"*20)\n",
    "print(\"### TestInit ###\")\n",
    "print(\"#\"*20)\n",
    "print(response)\n",
    "\n",
    "\n",
    "\n",
    "\n",
    "job.commit()"
   ]
  }
 ],
 "metadata": {
  "kernelspec": {
   "display_name": "PySpark",
   "language": "python",
   "name": "pysparkkernel"
  },
  "language_info": {
   "codemirror_mode": {
    "name": "python",
    "version": 3
   },
   "file_extension": ".py",
   "mimetype": "text/x-python",
   "name": "pyspark",
   "pygments_lexer": "python3"
  }
 },
 "nbformat": 4,
 "nbformat_minor": 5
}
